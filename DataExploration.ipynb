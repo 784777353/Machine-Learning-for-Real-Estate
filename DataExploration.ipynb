{
 "cells": [
  {
   "cell_type": "code",
   "execution_count": 22,
   "metadata": {},
   "outputs": [],
   "source": [
    "from pypinyin import pinyin, lazy_pinyin, Style\n",
    "import numpy as np\n",
    "import pandas as pd\n",
    "import sklearn\n",
    "import datetime\n",
    "from sklearn import linear_model, preprocessing\n",
    "from matplotlib import pyplot as plt\n",
    "\n",
    "from functools import reduce"
   ]
  },
  {
   "cell_type": "code",
   "execution_count": 2,
   "metadata": {},
   "outputs": [],
   "source": [
    "# data ETL, run once and ignore afterwards\n",
    "data = pd.read_excel('重资产项目清单1123-补充后数据.xlsx')\n",
    "data.drop(data.columns[-2:],axis=1,inplace=True)\n",
    "data.drop('项目版本', axis=1, inplace=True)\n",
    "data['分数'] = np.NAN\n",
    "data = data.loc[data.货地比.notnull()]\n",
    "\n",
    "data = data.loc[data.货地比.notnull()]\n",
    "data = data.loc[data['销售物业IRR（%）'].notnull()]\n",
    "data = data.loc[data['保证金比例（%）'].notnull()]\n",
    "data = data.loc[data['土地款支付节奏（天）'].notnull()]\n",
    "data = data.loc[data['业务类型'].notnull()]\n",
    "data.drop('发起立项时间', axis=1, inplace=True)\n",
    "\n",
    "scored = pd.read_csv('analysis.csv', encoding='gbk')\n",
    "\n",
    "for i in range(len(scored)):\n",
    "    proj_id = scored.loc[i, '项目id']\n",
    "    score = scored.loc[i, '分数']\n",
    "    data.loc[data['项目id']==proj_id, '分数'] = score\n",
    "\n",
    "data.to_csv('analysis2.csv', encoding='gbk', index=False)"
   ]
  },
  {
   "cell_type": "code",
   "execution_count": 23,
   "metadata": {},
   "outputs": [],
   "source": [
    "samples = pd.read_csv('analysis2.csv', encoding='gbk')"
   ]
  },
  {
   "cell_type": "code",
   "execution_count": 24,
   "metadata": {},
   "outputs": [],
   "source": [
    "samples[['创建时间', '拿地时间第一年']] = samples[['创建时间', '拿地时间第一年']].apply(pd.to_datetime)"
   ]
  },
  {
   "cell_type": "code",
   "execution_count": 25,
   "metadata": {},
   "outputs": [],
   "source": [
    "samples['待拿地时长'] = (samples['拿地时间第一年'] - samples['创建时间']).apply(lambda dt: dt.days)"
   ]
  },
  {
   "cell_type": "code",
   "execution_count": 26,
   "metadata": {},
   "outputs": [],
   "source": [
    "city_onehot = pd.get_dummies(samples['所属城市']).astype('float')\n",
    "for cname in city_onehot.columns:\n",
    "    samples['所属城市_' + cname] = city_onehot[cname]"
   ]
  },
  {
   "cell_type": "code",
   "execution_count": 27,
   "metadata": {},
   "outputs": [],
   "source": [
    "matype_onehot = pd.get_dummies(samples['获取方式']).astype('float')\n",
    "for cname in matype_onehot.columns:\n",
    "    samples['获取方式_' + cname] = matype_onehot[cname]"
   ]
  },
  {
   "cell_type": "code",
   "execution_count": 28,
   "metadata": {},
   "outputs": [],
   "source": [
    "btype_onehot = pd.get_dummies(samples['业务类型']).astype('float')"
   ]
  },
  {
   "cell_type": "code",
   "execution_count": 29,
   "metadata": {},
   "outputs": [],
   "source": [
    "btypes = set(reduce(lambda x, y: x + y, [btype.split(',') for btype in samples['业务类型']]))"
   ]
  },
  {
   "cell_type": "code",
   "execution_count": 30,
   "metadata": {},
   "outputs": [],
   "source": [
    "for btype in btypes:\n",
    "    samples['业务类型_' + btype] = 0.0"
   ]
  },
  {
   "cell_type": "code",
   "execution_count": 31,
   "metadata": {},
   "outputs": [],
   "source": [
    "for i in range(len(samples)):\n",
    "    btype_str = samples.loc[i, '业务类型']\n",
    "    for btype in btypes:\n",
    "        if btype in btype_str:\n",
    "            samples.loc[i, '业务类型_' + btype] = 1.0"
   ]
  },
  {
   "cell_type": "code",
   "execution_count": 32,
   "metadata": {},
   "outputs": [],
   "source": [
    "samples.drop(['项目id', '项目名称', '所属城市', '所属公司', '创建时间', '业务类型', '获取方式', '拿地时间第一年'], axis=1, inplace=True)"
   ]
  },
  {
   "cell_type": "code",
   "execution_count": 33,
   "metadata": {},
   "outputs": [],
   "source": [
    "y = samples['分数']\n",
    "X = samples.drop('分数', axis=1)\n",
    "\n",
    "min_max_scaler = preprocessing.MinMaxScaler()\n",
    "X_minmax_scaler = min_max_scaler.fit(X)"
   ]
  },
  {
   "cell_type": "code",
   "execution_count": 34,
   "metadata": {},
   "outputs": [],
   "source": [
    "training_ds = samples.loc[samples['分数'].notnull()]\n",
    "test_ds = samples.loc[samples['分数'].isnull()]"
   ]
  },
  {
   "cell_type": "code",
   "execution_count": 43,
   "metadata": {},
   "outputs": [
    {
     "data": {
      "text/plain": [
       "分数                   1.000000\n",
       "销售物业IRR（%）           0.734917\n",
       "货地比                  0.606358\n",
       "第三年利润累计结算比例（%）       0.605491\n",
       "次年累计销售比例（%）          0.519808\n",
       "销售物业毛利率（%）           0.353183\n",
       "所属城市_中山              0.298372\n",
       "所属城市_肇庆              0.275888\n",
       "获取方式_其他收并购           0.219624\n",
       "所属城市_青岛              0.208025\n",
       "土地款支付节奏（天）           0.200562\n",
       "所属城市_沈阳              0.186391\n",
       "所属城市_西安              0.173024\n",
       "所属城市_江门              0.171582\n",
       "所属城市_郑州              0.134679\n",
       "所属城市_南宁              0.119803\n",
       "所属城市_儋州              0.117186\n",
       "销售物业净利率（%）           0.108126\n",
       "当年累计销售比例（%）          0.100872\n",
       "所属城市_清远              0.099249\n",
       "所属城市_常州              0.093341\n",
       "次年利润累计结算比例（%）        0.090133\n",
       "所属城市_长沙              0.088010\n",
       "业务类型_持有酒店            0.080450\n",
       "所属城市_南京              0.080450\n",
       "所属城市_合肥              0.074343\n",
       "所属城市_无锡              0.070757\n",
       "所属城市_济南              0.062227\n",
       "所属城市_重庆              0.056218\n",
       "所属城市_徐州              0.051274\n",
       "                       ...   \n",
       "所属城市_东莞             -0.118026\n",
       "保证金比例（%）            -0.138443\n",
       "所属城市_上海             -0.140458\n",
       "所属城市_杭州             -0.214021\n",
       "业务类型_持有写字楼          -0.217607\n",
       "所属城市_贵阳             -0.245869\n",
       "所属城市_北京             -0.248402\n",
       "销售物业开盘周期（月）         -0.364399\n",
       "所属城市_深圳             -0.402025\n",
       "销售物业经营性现金流平衡周期（月）   -0.520028\n",
       "所属城市_九江                   NaN\n",
       "所属城市_佛山                   NaN\n",
       "所属城市_北海                   NaN\n",
       "所属城市_唐山                   NaN\n",
       "所属城市_常德                   NaN\n",
       "所属城市_廊坊                   NaN\n",
       "所属城市_惠州                   NaN\n",
       "所属城市_新乡                   NaN\n",
       "所属城市_昆明                   NaN\n",
       "所属城市_株洲                   NaN\n",
       "所属城市_沧州                   NaN\n",
       "所属城市_烟台                   NaN\n",
       "所属城市_福州                   NaN\n",
       "所属城市_绍兴                   NaN\n",
       "所属城市_芜湖                   NaN\n",
       "所属城市_蚌埠                   NaN\n",
       "所属城市_阜阳                   NaN\n",
       "获取方式_一二级联动                NaN\n",
       "业务类型_养老                   NaN\n",
       "业务类型_销售物业                 NaN\n",
       "Name: 分数, Length: 76, dtype: float64"
      ]
     },
     "execution_count": 43,
     "metadata": {},
     "output_type": "execute_result"
    }
   ],
   "source": [
    "training_ds = samples.loc[samples['分数'].notnull()]\n",
    "training_ds.corr()['分数'].sort_values(ascending=False)"
   ]
  },
  {
   "cell_type": "code",
   "execution_count": 16,
   "metadata": {},
   "outputs": [],
   "source": [
    "training_X = training_ds.drop('分数', axis=1)\n",
    "training_y = training_ds['分数']\n",
    "\n",
    "lasso = linear_model.Lasso(max_iter=1000, alpha=0.05)\n",
    "model = lasso.fit(X_minmax_scaler.transform(training_X), training_y)"
   ]
  },
  {
   "cell_type": "code",
   "execution_count": 44,
   "metadata": {},
   "outputs": [
    {
     "data": {
      "text/plain": [
       "3.331663519388421"
      ]
     },
     "execution_count": 44,
     "metadata": {},
     "output_type": "execute_result"
    }
   ],
   "source": [
    "y_bar = model.predict(X_minmax_scaler.transform(training_X))\n",
    "mse = (training_y.values - y_bar).std()\n",
    "mse"
   ]
  },
  {
   "cell_type": "code",
   "execution_count": 52,
   "metadata": {},
   "outputs": [
    {
     "data": {
      "image/png": "[encoded data removed]",
      "text/plain": [
       "<Figure size 432x288 with 1 Axes>"
      ]
     },
     "metadata": {
      "needs_background": "light"
     },
     "output_type": "display_data"
    }
   ],
   "source": [
    "plt.plot(range(len(training_y)), training_y, label='training_y')\n",
    "plt.plot(range(len(training_y)), y_bar, label='predicted_y')\n",
    "plt.legend()\n",
    "plt.show()"
   ]
  },
  {
   "cell_type": "code",
   "execution_count": 19,
   "metadata": {},
   "outputs": [
    {
     "data": {
      "text/html": [
       "<div>\n",
       "<style scoped>\n",
       "    .dataframe tbody tr th:only-of-type {\n",
       "        vertical-align: middle;\n",
       "    }\n",
       "\n",
       "    .dataframe tbody tr th {\n",
       "        vertical-align: top;\n",
       "    }\n",
       "\n",
       "    .dataframe thead th {\n",
       "        text-align: right;\n",
       "    }\n",
       "</style>\n",
       "<table border=\"1\" class=\"dataframe\">\n",
       "  <thead>\n",
       "    <tr style=\"text-align: right;\">\n",
       "      <th></th>\n",
       "      <th>weight</th>\n",
       "    </tr>\n",
       "  </thead>\n",
       "  <tbody>\n",
       "    <tr>\n",
       "      <th>货地比</th>\n",
       "      <td>18.852228</td>\n",
       "    </tr>\n",
       "    <tr>\n",
       "      <th>第三年利润累计结算比例（%）</th>\n",
       "      <td>11.941882</td>\n",
       "    </tr>\n",
       "    <tr>\n",
       "      <th>销售物业IRR（%）</th>\n",
       "      <td>10.773217</td>\n",
       "    </tr>\n",
       "    <tr>\n",
       "      <th>销售物业净利率（%）</th>\n",
       "      <td>8.290834</td>\n",
       "    </tr>\n",
       "    <tr>\n",
       "      <th>土地款支付节奏（天）</th>\n",
       "      <td>6.952650</td>\n",
       "    </tr>\n",
       "    <tr>\n",
       "      <th>所属城市_青岛</th>\n",
       "      <td>4.904665</td>\n",
       "    </tr>\n",
       "    <tr>\n",
       "      <th>所属城市_沈阳</th>\n",
       "      <td>4.539273</td>\n",
       "    </tr>\n",
       "    <tr>\n",
       "      <th>所属城市_南宁</th>\n",
       "      <td>4.016798</td>\n",
       "    </tr>\n",
       "    <tr>\n",
       "      <th>所属城市_江门</th>\n",
       "      <td>3.416901</td>\n",
       "    </tr>\n",
       "    <tr>\n",
       "      <th>计容地上建面（平米）</th>\n",
       "      <td>3.309765</td>\n",
       "    </tr>\n",
       "    <tr>\n",
       "      <th>所属城市_肇庆</th>\n",
       "      <td>3.221105</td>\n",
       "    </tr>\n",
       "    <tr>\n",
       "      <th>获取方式_其他收并购</th>\n",
       "      <td>2.259972</td>\n",
       "    </tr>\n",
       "    <tr>\n",
       "      <th>销售物业毛利率（%）</th>\n",
       "      <td>1.648814</td>\n",
       "    </tr>\n",
       "    <tr>\n",
       "      <th>所属城市_西安</th>\n",
       "      <td>1.458676</td>\n",
       "    </tr>\n",
       "    <tr>\n",
       "      <th>所属城市_长沙</th>\n",
       "      <td>0.856450</td>\n",
       "    </tr>\n",
       "    <tr>\n",
       "      <th>所属城市_常州</th>\n",
       "      <td>0.703572</td>\n",
       "    </tr>\n",
       "    <tr>\n",
       "      <th>所属城市_石家庄</th>\n",
       "      <td>0.066628</td>\n",
       "    </tr>\n",
       "    <tr>\n",
       "      <th>所属城市_徐州</th>\n",
       "      <td>0.000000</td>\n",
       "    </tr>\n",
       "    <tr>\n",
       "      <th>所属城市_烟台</th>\n",
       "      <td>0.000000</td>\n",
       "    </tr>\n",
       "    <tr>\n",
       "      <th>所属城市_重庆</th>\n",
       "      <td>0.000000</td>\n",
       "    </tr>\n",
       "    <tr>\n",
       "      <th>所属城市_郑州</th>\n",
       "      <td>-0.000000</td>\n",
       "    </tr>\n",
       "    <tr>\n",
       "      <th>所属城市_贵阳</th>\n",
       "      <td>0.000000</td>\n",
       "    </tr>\n",
       "    <tr>\n",
       "      <th>所属城市_蚌埠</th>\n",
       "      <td>0.000000</td>\n",
       "    </tr>\n",
       "    <tr>\n",
       "      <th>所属城市_新乡</th>\n",
       "      <td>0.000000</td>\n",
       "    </tr>\n",
       "    <tr>\n",
       "      <th>所属城市_无锡</th>\n",
       "      <td>0.000000</td>\n",
       "    </tr>\n",
       "    <tr>\n",
       "      <th>所属城市_昆明</th>\n",
       "      <td>0.000000</td>\n",
       "    </tr>\n",
       "    <tr>\n",
       "      <th>所属城市_株洲</th>\n",
       "      <td>0.000000</td>\n",
       "    </tr>\n",
       "    <tr>\n",
       "      <th>所属城市_芜湖</th>\n",
       "      <td>0.000000</td>\n",
       "    </tr>\n",
       "    <tr>\n",
       "      <th>所属城市_绍兴</th>\n",
       "      <td>0.000000</td>\n",
       "    </tr>\n",
       "    <tr>\n",
       "      <th>所属城市_福州</th>\n",
       "      <td>0.000000</td>\n",
       "    </tr>\n",
       "    <tr>\n",
       "      <th>...</th>\n",
       "      <td>...</td>\n",
       "    </tr>\n",
       "    <tr>\n",
       "      <th>业务类型_销售物业</th>\n",
       "      <td>0.000000</td>\n",
       "    </tr>\n",
       "    <tr>\n",
       "      <th>业务类型_养老</th>\n",
       "      <td>0.000000</td>\n",
       "    </tr>\n",
       "    <tr>\n",
       "      <th>所属城市_中山</th>\n",
       "      <td>-0.000000</td>\n",
       "    </tr>\n",
       "    <tr>\n",
       "      <th>所属城市_临沂</th>\n",
       "      <td>-0.000000</td>\n",
       "    </tr>\n",
       "    <tr>\n",
       "      <th>所属城市_九江</th>\n",
       "      <td>0.000000</td>\n",
       "    </tr>\n",
       "    <tr>\n",
       "      <th>所属城市_儋州</th>\n",
       "      <td>-0.000000</td>\n",
       "    </tr>\n",
       "    <tr>\n",
       "      <th>获取方式_股权转让</th>\n",
       "      <td>-0.000000</td>\n",
       "    </tr>\n",
       "    <tr>\n",
       "      <th>所属城市_北海</th>\n",
       "      <td>0.000000</td>\n",
       "    </tr>\n",
       "    <tr>\n",
       "      <th>所属城市_南京</th>\n",
       "      <td>0.000000</td>\n",
       "    </tr>\n",
       "    <tr>\n",
       "      <th>所属城市_南昌</th>\n",
       "      <td>0.000000</td>\n",
       "    </tr>\n",
       "    <tr>\n",
       "      <th>所属城市_合肥</th>\n",
       "      <td>0.000000</td>\n",
       "    </tr>\n",
       "    <tr>\n",
       "      <th>所属城市_唐山</th>\n",
       "      <td>0.000000</td>\n",
       "    </tr>\n",
       "    <tr>\n",
       "      <th>所属城市_大连</th>\n",
       "      <td>0.000000</td>\n",
       "    </tr>\n",
       "    <tr>\n",
       "      <th>所属城市_阜阳</th>\n",
       "      <td>0.000000</td>\n",
       "    </tr>\n",
       "    <tr>\n",
       "      <th>所属城市_苏州</th>\n",
       "      <td>-0.054384</td>\n",
       "    </tr>\n",
       "    <tr>\n",
       "      <th>获取方式_公开市场</th>\n",
       "      <td>-0.161097</td>\n",
       "    </tr>\n",
       "    <tr>\n",
       "      <th>所属城市_武汉</th>\n",
       "      <td>-0.833452</td>\n",
       "    </tr>\n",
       "    <tr>\n",
       "      <th>所属城市_咸阳</th>\n",
       "      <td>-1.122644</td>\n",
       "    </tr>\n",
       "    <tr>\n",
       "      <th>所属城市_杭州</th>\n",
       "      <td>-2.679562</td>\n",
       "    </tr>\n",
       "    <tr>\n",
       "      <th>所属城市_成都</th>\n",
       "      <td>-3.581699</td>\n",
       "    </tr>\n",
       "    <tr>\n",
       "      <th>所属城市_广州</th>\n",
       "      <td>-3.950945</td>\n",
       "    </tr>\n",
       "    <tr>\n",
       "      <th>所属城市_宁波</th>\n",
       "      <td>-4.169938</td>\n",
       "    </tr>\n",
       "    <tr>\n",
       "      <th>所属城市_北京</th>\n",
       "      <td>-4.608341</td>\n",
       "    </tr>\n",
       "    <tr>\n",
       "      <th>保证金比例（%）</th>\n",
       "      <td>-5.146061</td>\n",
       "    </tr>\n",
       "    <tr>\n",
       "      <th>次年利润累计结算比例（%）</th>\n",
       "      <td>-5.692863</td>\n",
       "    </tr>\n",
       "    <tr>\n",
       "      <th>所属城市_东莞</th>\n",
       "      <td>-6.004103</td>\n",
       "    </tr>\n",
       "    <tr>\n",
       "      <th>业务类型_持有写字楼</th>\n",
       "      <td>-6.924824</td>\n",
       "    </tr>\n",
       "    <tr>\n",
       "      <th>所属城市_上海</th>\n",
       "      <td>-7.284875</td>\n",
       "    </tr>\n",
       "    <tr>\n",
       "      <th>所属城市_深圳</th>\n",
       "      <td>-13.004047</td>\n",
       "    </tr>\n",
       "    <tr>\n",
       "      <th>销售物业经营性现金流平衡周期（月）</th>\n",
       "      <td>-15.711320</td>\n",
       "    </tr>\n",
       "  </tbody>\n",
       "</table>\n",
       "<p>75 rows × 1 columns</p>\n",
       "</div>"
      ],
      "text/plain": [
       "                      weight\n",
       "货地比                18.852228\n",
       "第三年利润累计结算比例（%）     11.941882\n",
       "销售物业IRR（%）         10.773217\n",
       "销售物业净利率（%）          8.290834\n",
       "土地款支付节奏（天）          6.952650\n",
       "所属城市_青岛             4.904665\n",
       "所属城市_沈阳             4.539273\n",
       "所属城市_南宁             4.016798\n",
       "所属城市_江门             3.416901\n",
       "计容地上建面（平米）          3.309765\n",
       "所属城市_肇庆             3.221105\n",
       "获取方式_其他收并购          2.259972\n",
       "销售物业毛利率（%）          1.648814\n",
       "所属城市_西安             1.458676\n",
       "所属城市_长沙             0.856450\n",
       "所属城市_常州             0.703572\n",
       "所属城市_石家庄            0.066628\n",
       "所属城市_徐州             0.000000\n",
       "所属城市_烟台             0.000000\n",
       "所属城市_重庆             0.000000\n",
       "所属城市_郑州            -0.000000\n",
       "所属城市_贵阳             0.000000\n",
       "所属城市_蚌埠             0.000000\n",
       "所属城市_新乡             0.000000\n",
       "所属城市_无锡             0.000000\n",
       "所属城市_昆明             0.000000\n",
       "所属城市_株洲             0.000000\n",
       "所属城市_芜湖             0.000000\n",
       "所属城市_绍兴             0.000000\n",
       "所属城市_福州             0.000000\n",
       "...                      ...\n",
       "业务类型_销售物业           0.000000\n",
       "业务类型_养老             0.000000\n",
       "所属城市_中山            -0.000000\n",
       "所属城市_临沂            -0.000000\n",
       "所属城市_九江             0.000000\n",
       "所属城市_儋州            -0.000000\n",
       "获取方式_股权转让          -0.000000\n",
       "所属城市_北海             0.000000\n",
       "所属城市_南京             0.000000\n",
       "所属城市_南昌             0.000000\n",
       "所属城市_合肥             0.000000\n",
       "所属城市_唐山             0.000000\n",
       "所属城市_大连             0.000000\n",
       "所属城市_阜阳             0.000000\n",
       "所属城市_苏州            -0.054384\n",
       "获取方式_公开市场          -0.161097\n",
       "所属城市_武汉            -0.833452\n",
       "所属城市_咸阳            -1.122644\n",
       "所属城市_杭州            -2.679562\n",
       "所属城市_成都            -3.581699\n",
       "所属城市_广州            -3.950945\n",
       "所属城市_宁波            -4.169938\n",
       "所属城市_北京            -4.608341\n",
       "保证金比例（%）           -5.146061\n",
       "次年利润累计结算比例（%）      -5.692863\n",
       "所属城市_东莞            -6.004103\n",
       "业务类型_持有写字楼         -6.924824\n",
       "所属城市_上海            -7.284875\n",
       "所属城市_深圳           -13.004047\n",
       "销售物业经营性现金流平衡周期（月） -15.711320\n",
       "\n",
       "[75 rows x 1 columns]"
      ]
     },
     "execution_count": 19,
     "metadata": {},
     "output_type": "execute_result"
    }
   ],
   "source": [
    "feature_importances = pd.DataFrame(model.coef_,\n",
    "                                   index = X.columns,\n",
    "                                   columns=['weight']).sort_values('weight',ascending=False)\n",
    "feature_importances"
   ]
  },
  {
   "cell_type": "code",
   "execution_count": 20,
   "metadata": {
    "scrolled": true
   },
   "outputs": [
    {
     "name": "stdout",
     "output_type": "stream",
     "text": [
      "ElasticNet picked 33 features and eliminated the other 42 features\n"
     ]
    },
    {
     "data": {
      "image/png": "[encoded data removed]",
      "text/plain": [
       "<Figure size 432x288 with 1 Axes>"
      ]
     },
     "metadata": {
      "needs_background": "light"
     },
     "output_type": "display_data"
    }
   ],
   "source": [
    "# Plot important coefficients\n",
    "index = [''.join(map(lambda s: s.capitalize(), lazy_pinyin(s))) for s in X.columns]\n",
    "coefs = pd.Series(lasso.coef_, index = index)\n",
    "print(\"ElasticNet picked \" + str(sum(coefs != 0)) + \" features and eliminated the other \" +  str(sum(coefs == 0)) + \" features\")\n",
    "imp_coefs = pd.concat([coefs.sort_values().head(10),\n",
    "                     coefs.sort_values().tail(10)])\n",
    "imp_coefs.plot(kind = \"barh\")\n",
    "plt.title(\"Coefficients in the ElasticNet Model\")\n",
    "plt.show()"
   ]
  },
  {
   "cell_type": "code",
   "execution_count": 55,
   "metadata": {},
   "outputs": [
    {
     "data": {
      "image/png": "[encoded data removed]",
      "text/plain": [
       "<Figure size 432x288 with 1 Axes>"
      ]
     },
     "metadata": {
      "needs_background": "light"
     },
     "output_type": "display_data"
    }
   ],
   "source": [
    "test_X = test_ds.drop('分数', axis=1)\n",
    "test_y = test_ds['分数']\n",
    "\n",
    "y_bar2 = model.predict(X_minmax_scaler.transform(test_X))\n",
    "plt.plot(range(len(test_y)), y_bar2)\n",
    "plt.show()"
   ]
  },
  {
   "cell_type": "code",
   "execution_count": null,
   "metadata": {},
   "outputs": [],
   "source": []
  }
 ],
 "metadata": {
  "kernelspec": {
   "display_name": "Python 3",
   "language": "python",
   "name": "python3"
  },
  "language_info": {
   "codemirror_mode": {
    "name": "ipython",
    "version": 3
   },
   "file_extension": ".py",
   "mimetype": "text/x-python",
   "name": "python",
   "nbconvert_exporter": "python",
   "pygments_lexer": "ipython3",
   "version": "3.7.0"
  }
 },
 "nbformat": 4,
 "nbformat_minor": 2
}
